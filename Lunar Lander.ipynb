{
 "cells": [
  {
   "cell_type": "markdown",
   "metadata": {},
   "source": [
    "## Lunar Lander\n",
    "Using reinforcement learning to teach an agent to play the Lunar Lander game"
   ]
  },
  {
   "cell_type": "code",
   "execution_count": 1,
   "metadata": {
    "ExecuteTime": {
     "end_time": "2019-01-06T04:55:12.167872Z",
     "start_time": "2019-01-06T04:55:11.775437Z"
    }
   },
   "outputs": [],
   "source": [
    "import gym\n",
    "import numpy as np\n",
    "import torch\n",
    "import torch.nn as nn\n",
    "import torch.nn.functional as F\n",
    "import torch.optim as optim"
   ]
  },
  {
   "cell_type": "code",
   "execution_count": 2,
   "metadata": {
    "ExecuteTime": {
     "end_time": "2019-01-06T04:55:12.173809Z",
     "start_time": "2019-01-06T04:55:12.169339Z"
    }
   },
   "outputs": [],
   "source": [
    "class Net(nn.Module):\n",
    "    def __init__(self, input_size, hidden_size, action_size):\n",
    "        super(Net, self).__init__()\n",
    "        self.fc1 = nn.Linear(input_size, hidden_size)\n",
    "        self.fc2 = nn.Linear(hidden_size, action_size)\n",
    "\n",
    "    def forward(self, x):\n",
    "        x = F.relu(self.fc1(x))\n",
    "        return self.fc2(x)"
   ]
  },
  {
   "cell_type": "code",
   "execution_count": 3,
   "metadata": {
    "ExecuteTime": {
     "end_time": "2019-01-06T04:55:12.180727Z",
     "start_time": "2019-01-06T04:55:12.175435Z"
    }
   },
   "outputs": [],
   "source": [
    "def generate_batch(env,batch_size, t_max=1000):\n",
    "    \n",
    "    activation = nn.Softmax(dim=1)\n",
    "    batch_actions,batch_states, batch_rewards = [],[],[]\n",
    "    \n",
    "    for b in range(batch_size):\n",
    "        states,actions = [],[]\n",
    "        total_reward = 0\n",
    "        s = env.reset()\n",
    "        for t in range(t_max):\n",
    "            s_v = torch.FloatTensor([s])\n",
    "            act_probs_v = activation(net(s_v.to(device)))\n",
    "            act_probs = act_probs_v.cpu().data.numpy()[0]\n",
    "            a = np.random.choice(len(act_probs), p=act_probs)\n",
    "            new_s, r, done, info = env.step(a)\n",
    "            states.append(s)\n",
    "            actions.append(a)\n",
    "            total_reward += r\n",
    "            s = new_s\n",
    "            if done:\n",
    "                batch_actions.append(actions)\n",
    "                batch_states.append(states)\n",
    "                batch_rewards.append(total_reward)\n",
    "                break\n",
    "    return batch_states, batch_actions, batch_rewards"
   ]
  },
  {
   "cell_type": "code",
   "execution_count": 4,
   "metadata": {
    "ExecuteTime": {
     "end_time": "2019-01-06T04:55:12.189480Z",
     "start_time": "2019-01-06T04:55:12.182942Z"
    }
   },
   "outputs": [],
   "source": [
    "def filter_batch(states_batch, actions_batch, rewards_batch, percentile=50):\n",
    "\n",
    "    reward_threshold = np.percentile(rewards_batch, percentile)\n",
    "\n",
    "    elite_states = []\n",
    "    elite_actions = []\n",
    "\n",
    "    for i in range(len(rewards_batch)):\n",
    "        if rewards_batch[i] > reward_threshold:\n",
    "            for j in range(len(states_batch[i])):\n",
    "                elite_states.append(states_batch[i][j])\n",
    "                elite_actions.append(actions_batch[i][j])\n",
    "\n",
    "    return elite_states, elite_actions"
   ]
  },
  {
   "cell_type": "code",
   "execution_count": 5,
   "metadata": {
    "ExecuteTime": {
     "end_time": "2019-01-06T04:55:12.197178Z",
     "start_time": "2019-01-06T04:55:12.190685Z"
    }
   },
   "outputs": [],
   "source": [
    "device = torch.device(\"cuda\" if torch.cuda.is_available() else \"cpu\")"
   ]
  },
  {
   "cell_type": "code",
   "execution_count": 6,
   "metadata": {
    "ExecuteTime": {
     "end_time": "2019-01-06T04:55:12.207932Z",
     "start_time": "2019-01-06T04:55:12.198342Z"
    }
   },
   "outputs": [
    {
     "data": {
      "text/plain": [
       "device(type='cpu')"
      ]
     },
     "execution_count": 6,
     "metadata": {},
     "output_type": "execute_result"
    }
   ],
   "source": [
    "device"
   ]
  },
  {
   "cell_type": "code",
   "execution_count": 7,
   "metadata": {
    "ExecuteTime": {
     "end_time": "2019-01-06T05:17:27.441948Z",
     "start_time": "2019-01-06T04:55:12.209954Z"
    },
    "scrolled": true
   },
   "outputs": [
    {
     "name": "stdout",
     "output_type": "stream",
     "text": [
      "0: loss=1.380, reward_mean=-205.7, reward_threshold=-103.0\n",
      "1: loss=1.377, reward_mean=-191.1, reward_threshold=-98.1\n",
      "2: loss=1.374, reward_mean=-201.2, reward_threshold=-103.1\n",
      "3: loss=1.361, reward_mean=-188.4, reward_threshold=-86.1\n",
      "4: loss=1.355, reward_mean=-219.1, reward_threshold=-91.1\n",
      "5: loss=1.361, reward_mean=-192.4, reward_threshold=-79.2\n",
      "6: loss=1.349, reward_mean=-192.4, reward_threshold=-90.2\n",
      "7: loss=1.349, reward_mean=-165.0, reward_threshold=-79.1\n",
      "8: loss=1.345, reward_mean=-166.8, reward_threshold=-71.5\n",
      "9: loss=1.337, reward_mean=-176.0, reward_threshold=-77.6\n",
      "10: loss=1.344, reward_mean=-171.4, reward_threshold=-82.8\n",
      "11: loss=1.345, reward_mean=-140.2, reward_threshold=-69.9\n",
      "12: loss=1.312, reward_mean=-147.6, reward_threshold=-64.8\n",
      "13: loss=1.323, reward_mean=-137.3, reward_threshold=-79.1\n",
      "14: loss=1.318, reward_mean=-157.8, reward_threshold=-62.4\n",
      "15: loss=1.306, reward_mean=-137.2, reward_threshold=-66.1\n",
      "16: loss=1.321, reward_mean=-125.5, reward_threshold=-60.8\n",
      "17: loss=1.300, reward_mean=-136.4, reward_threshold=-63.9\n",
      "18: loss=1.314, reward_mean=-111.0, reward_threshold=-61.9\n",
      "19: loss=1.265, reward_mean=-115.1, reward_threshold=-56.3\n",
      "20: loss=1.273, reward_mean=-100.1, reward_threshold=-52.5\n",
      "21: loss=1.264, reward_mean=-116.4, reward_threshold=-57.1\n",
      "22: loss=1.246, reward_mean=-112.2, reward_threshold=-41.2\n",
      "23: loss=1.252, reward_mean=-101.7, reward_threshold=-43.7\n",
      "24: loss=1.249, reward_mean=-106.2, reward_threshold=-40.6\n",
      "25: loss=1.229, reward_mean=-129.8, reward_threshold=-49.1\n",
      "26: loss=1.209, reward_mean=-103.4, reward_threshold=-52.5\n",
      "27: loss=1.216, reward_mean=-113.0, reward_threshold=-49.1\n",
      "28: loss=1.209, reward_mean=-112.2, reward_threshold=-36.4\n",
      "29: loss=1.209, reward_mean=-133.3, reward_threshold=-50.4\n",
      "30: loss=1.188, reward_mean=-125.3, reward_threshold=-36.2\n",
      "31: loss=1.186, reward_mean=-127.2, reward_threshold=-35.7\n",
      "32: loss=1.189, reward_mean=-136.7, reward_threshold=-31.1\n",
      "33: loss=1.197, reward_mean=-138.6, reward_threshold=-40.3\n",
      "34: loss=1.147, reward_mean=-130.7, reward_threshold=-29.1\n",
      "35: loss=1.184, reward_mean=-125.1, reward_threshold=-34.8\n",
      "36: loss=1.130, reward_mean=-126.0, reward_threshold=-26.3\n",
      "37: loss=1.197, reward_mean=-114.2, reward_threshold=-22.4\n",
      "38: loss=1.203, reward_mean=-128.5, reward_threshold=-29.5\n",
      "39: loss=1.181, reward_mean=-119.0, reward_threshold=-24.0\n",
      "40: loss=1.190, reward_mean=-117.9, reward_threshold=-22.6\n",
      "41: loss=1.194, reward_mean=-131.0, reward_threshold=-31.1\n",
      "42: loss=1.165, reward_mean=-122.6, reward_threshold=-25.5\n",
      "43: loss=1.171, reward_mean=-95.9, reward_threshold=-13.2\n",
      "44: loss=1.148, reward_mean=-101.1, reward_threshold=-14.9\n",
      "45: loss=1.163, reward_mean=-76.0, reward_threshold=-11.6\n",
      "46: loss=1.204, reward_mean=-83.5, reward_threshold=-7.9\n",
      "47: loss=1.183, reward_mean=-102.6, reward_threshold=-23.8\n",
      "48: loss=1.180, reward_mean=-64.5, reward_threshold=9.2\n",
      "49: loss=1.223, reward_mean=-76.6, reward_threshold=0.4\n",
      "50: loss=1.174, reward_mean=-80.1, reward_threshold=-9.4\n",
      "51: loss=1.189, reward_mean=-68.5, reward_threshold=-6.8\n",
      "52: loss=1.239, reward_mean=-70.7, reward_threshold=-5.7\n",
      "53: loss=1.154, reward_mean=-53.0, reward_threshold=-0.1\n",
      "54: loss=1.226, reward_mean=-60.1, reward_threshold=2.1\n",
      "55: loss=1.170, reward_mean=-58.0, reward_threshold=-0.4\n",
      "56: loss=1.239, reward_mean=-71.6, reward_threshold=-17.1\n",
      "57: loss=1.215, reward_mean=-61.2, reward_threshold=3.1\n",
      "58: loss=1.224, reward_mean=-49.3, reward_threshold=5.6\n",
      "59: loss=1.131, reward_mean=-56.2, reward_threshold=4.8\n",
      "60: loss=1.200, reward_mean=-43.8, reward_threshold=10.8\n",
      "61: loss=1.203, reward_mean=-46.3, reward_threshold=13.0\n",
      "62: loss=1.214, reward_mean=-56.3, reward_threshold=0.6\n",
      "63: loss=1.204, reward_mean=-49.2, reward_threshold=16.8\n",
      "64: loss=1.231, reward_mean=-44.3, reward_threshold=11.8\n",
      "65: loss=1.241, reward_mean=-44.8, reward_threshold=16.1\n",
      "66: loss=1.210, reward_mean=-35.9, reward_threshold=11.0\n",
      "67: loss=1.238, reward_mean=-37.1, reward_threshold=16.0\n",
      "68: loss=1.200, reward_mean=-44.6, reward_threshold=23.5\n",
      "69: loss=1.191, reward_mean=-31.2, reward_threshold=18.4\n",
      "70: loss=1.235, reward_mean=-33.9, reward_threshold=22.1\n",
      "71: loss=1.239, reward_mean=-21.9, reward_threshold=22.6\n",
      "72: loss=1.222, reward_mean=-27.2, reward_threshold=29.5\n",
      "73: loss=1.220, reward_mean=-40.3, reward_threshold=20.4\n",
      "74: loss=1.223, reward_mean=-34.9, reward_threshold=21.9\n",
      "75: loss=1.218, reward_mean=-29.0, reward_threshold=31.0\n",
      "76: loss=1.224, reward_mean=-30.5, reward_threshold=22.5\n",
      "77: loss=1.187, reward_mean=-42.8, reward_threshold=14.5\n",
      "78: loss=1.204, reward_mean=-45.7, reward_threshold=24.5\n",
      "79: loss=1.204, reward_mean=-45.9, reward_threshold=25.2\n",
      "80: loss=1.217, reward_mean=-21.2, reward_threshold=25.0\n",
      "81: loss=1.174, reward_mean=-33.7, reward_threshold=26.1\n",
      "82: loss=1.220, reward_mean=-36.1, reward_threshold=27.7\n",
      "83: loss=1.207, reward_mean=-41.7, reward_threshold=24.4\n",
      "84: loss=1.216, reward_mean=-32.7, reward_threshold=22.4\n",
      "85: loss=1.235, reward_mean=-30.2, reward_threshold=24.1\n",
      "86: loss=1.220, reward_mean=-13.1, reward_threshold=31.8\n",
      "87: loss=1.214, reward_mean=-8.4, reward_threshold=27.3\n",
      "88: loss=1.200, reward_mean=-13.2, reward_threshold=33.2\n",
      "89: loss=1.200, reward_mean=-6.5, reward_threshold=28.2\n",
      "90: loss=1.212, reward_mean=-3.6, reward_threshold=30.1\n",
      "91: loss=1.243, reward_mean=1.3, reward_threshold=32.6\n",
      "92: loss=1.242, reward_mean=4.0, reward_threshold=27.4\n",
      "93: loss=1.221, reward_mean=-6.4, reward_threshold=28.9\n",
      "94: loss=1.247, reward_mean=2.6, reward_threshold=34.1\n",
      "95: loss=1.259, reward_mean=3.9, reward_threshold=41.8\n",
      "96: loss=1.194, reward_mean=5.9, reward_threshold=35.5\n",
      "97: loss=1.267, reward_mean=2.4, reward_threshold=32.2\n",
      "98: loss=1.262, reward_mean=13.5, reward_threshold=35.7\n",
      "99: loss=1.265, reward_mean=11.2, reward_threshold=36.4\n"
     ]
    }
   ],
   "source": [
    "batch_size = 100\n",
    "session_size = 100\n",
    "percentile = 80\n",
    "hidden_size = 200\n",
    "learning_rate = 0.0025\n",
    "completion_score = 200\n",
    "env = gym.make(\"LunarLander-v2\")\n",
    "n_states = env.observation_space.shape[0]\n",
    "n_actions = env.action_space.n\n",
    "#neural network\n",
    "net = Net(n_states, hidden_size, n_actions)\n",
    "net = net.to(device)\n",
    "#loss function\n",
    "objective = nn.CrossEntropyLoss()\n",
    "#optimisation function\n",
    "optimizer = optim.Adam(params=net.parameters(), lr=learning_rate)\n",
    "for i in range(session_size):\n",
    "    #generate new sessions\n",
    "    batch_states, batch_actions, batch_rewards = generate_batch(\n",
    "        env, batch_size, t_max=5000)\n",
    "    elite_states, elite_actions = filter_batch(batch_states, batch_actions,\n",
    "                                               batch_rewards, percentile)\n",
    "\n",
    "#     elite_states = torch.Tensor(elite_states).to(device)\n",
    "#     elite_actions = torch.Tensor(elite_actions).to(device)\n",
    "    optimizer.zero_grad()\n",
    "    tensor_states = torch.FloatTensor(elite_states).to(device)\n",
    "    tensor_actions = torch.LongTensor(elite_actions).to(device)\n",
    "    action_scores_v = net(tensor_states)\n",
    "    loss_v = objective(action_scores_v, tensor_actions)\n",
    "    loss_v.backward()\n",
    "    optimizer.step()\n",
    "    #show results\n",
    "    mean_reward, threshold = np.mean(batch_rewards), np.percentile(batch_rewards, percentile)\n",
    "    print(\"%d: loss=%.3f, reward_mean=%.1f, reward_threshold=%.1f\" %\n",
    "          (i, loss_v.item(), mean_reward, threshold))\n",
    "\n",
    "    #check if\n",
    "    if np.mean(batch_rewards) > completion_score:\n",
    "        print(\"Environment has been successfullly completed!\")"
   ]
  },
  {
   "cell_type": "code",
   "execution_count": 9,
   "metadata": {
    "ExecuteTime": {
     "end_time": "2019-01-06T05:33:03.428631Z",
     "start_time": "2019-01-06T05:33:03.418986Z"
    }
   },
   "outputs": [],
   "source": [
    "# save the model\n",
    "torch.save(net.state_dict(), \"model1\")"
   ]
  },
  {
   "cell_type": "code",
   "execution_count": null,
   "metadata": {
    "ExecuteTime": {
     "end_time": "2019-01-06T05:17:27.555354Z",
     "start_time": "2019-01-06T04:55:11.823Z"
    }
   },
   "outputs": [],
   "source": [
    "# import gym.wrappers\n",
    "# env = gym.wrappers.Monitor(\n",
    "#     gym.make(\"LunarLander-v2\"), directory=\"videos\", force=True)\n",
    "# generate_batch(env, 1, t_max=5000)\n",
    "# env.close()"
   ]
  },
  {
   "cell_type": "code",
   "execution_count": 12,
   "metadata": {
    "ExecuteTime": {
     "end_time": "2019-01-06T05:34:19.181360Z",
     "start_time": "2019-01-06T05:34:18.050201Z"
    }
   },
   "outputs": [
    {
     "name": "stdout",
     "output_type": "stream",
     "text": [
      "Total reward is : -554.8111864924354\n"
     ]
    }
   ],
   "source": [
    "# lets run and see\n",
    "\n",
    "s = env.reset()\n",
    "totalReward = 0\n",
    "activation = nn.Softmax(dim=1)\n",
    "for _ in range(5000):\n",
    "    env.render()\n",
    "    s_v = torch.FloatTensor([s])\n",
    "    act_probs_v = activation(net(s_v.to(device)))\n",
    "    act_probs = act_probs_v.cpu().data.numpy()[0]\n",
    "    a = np.argmax(act_probs)\n",
    "    new_s, r, done, info = env.step(a)\n",
    "    totalReward += r\n",
    "    \n",
    "    if done:\n",
    "        break\n",
    "\n",
    "print(\"Total reward is : {}\".format(totalReward))\n",
    "    "
   ]
  },
  {
   "cell_type": "code",
   "execution_count": null,
   "metadata": {},
   "outputs": [],
   "source": []
  }
 ],
 "metadata": {
  "kernelspec": {
   "display_name": "Python 3",
   "language": "python",
   "name": "python3"
  },
  "language_info": {
   "codemirror_mode": {
    "name": "ipython",
    "version": 3
   },
   "file_extension": ".py",
   "mimetype": "text/x-python",
   "name": "python",
   "nbconvert_exporter": "python",
   "pygments_lexer": "ipython3",
   "version": "3.7.1"
  },
  "varInspector": {
   "cols": {
    "lenName": 16,
    "lenType": 16,
    "lenVar": 40
   },
   "kernels_config": {
    "python": {
     "delete_cmd_postfix": "",
     "delete_cmd_prefix": "del ",
     "library": "var_list.py",
     "varRefreshCmd": "print(var_dic_list())"
    },
    "r": {
     "delete_cmd_postfix": ") ",
     "delete_cmd_prefix": "rm(",
     "library": "var_list.r",
     "varRefreshCmd": "cat(var_dic_list()) "
    }
   },
   "types_to_exclude": [
    "module",
    "function",
    "builtin_function_or_method",
    "instance",
    "_Feature"
   ],
   "window_display": false
  }
 },
 "nbformat": 4,
 "nbformat_minor": 2
}
